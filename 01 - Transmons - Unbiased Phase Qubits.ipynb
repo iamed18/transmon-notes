{
 "cells": [
  {
   "cell_type": "markdown",
   "metadata": {},
   "source": [
    "## A transmon as an unbiased phase qubit ##\n",
    "\n",
    "*Original notes from T.T. [here](https://wiki.physics.wisc.edu/mcdermott/Literature?action=AttachFile&do=view&target=Thorbeck+notes+-+transmons.pdf).*\n",
    "\n",
    "The circuit below indicates the relevant parameters needed for analysis. Each item is labeled twice to make discussing the variable transformation from writing a basic circuit Lagrangian $(V, I_0, C)$ to a more relevant set of variables $(\\dot{\\delta}, E_J, E_C)$ easier. The relationship between each of the sets is given below. It's also worth noting that the capacitance $C$ is the sum total to ground via both the shunt and self capacitance of the junction.\n"
   ]
  },
  {
   "cell_type": "code",
   "execution_count": 2,
   "metadata": {
    "collapsed": false
   },
   "outputs": [
    {
     "data": {
      "image/png": "[encoded data removed]",
      "text/plain": [
       "<IPython.core.display.Image object>"
      ]
     },
     "execution_count": 2,
     "metadata": {},
     "output_type": "execute_result"
    }
   ],
   "source": [
    "from IPython.display import Image\n",
    "Image(filename='images/transmon.png') "
   ]
  },
  {
   "cell_type": "markdown",
   "metadata": {
    "collapsed": true
   },
   "source": [
    "\n",
    "\\begin{align}\n",
    "\\dot{\\delta} &= V\\\\\n",
    "E_J &= \\frac{I_0\\Phi_0}{2\\pi}\\\\\n",
    "E_C &= \\frac{e^2}{2C}\n",
    "\\end{align}"
   ]
  },
  {
   "cell_type": "code",
   "execution_count": null,
   "metadata": {
    "collapsed": true
   },
   "outputs": [],
   "source": []
  }
 ],
 "metadata": {
  "kernelspec": {
   "display_name": "Python 3",
   "language": "python",
   "name": "python3"
  },
  "language_info": {
   "codemirror_mode": {
    "name": "ipython",
    "version": 3
   },
   "file_extension": ".py",
   "mimetype": "text/x-python",
   "name": "python",
   "nbconvert_exporter": "python",
   "pygments_lexer": "ipython3",
   "version": "3.4.3"
  }
 },
 "nbformat": 4,
 "nbformat_minor": 1
}
