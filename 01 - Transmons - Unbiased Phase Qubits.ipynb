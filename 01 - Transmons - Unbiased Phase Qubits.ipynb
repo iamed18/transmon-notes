{
 "cells": [
  {
   "cell_type": "markdown",
   "metadata": {},
   "source": [
    "## A transmon as an unbiased phase qubit ##\n",
    "\n",
    "*Original notes from T.T. [here](https://wiki.physics.wisc.edu/mcdermott/Literature?action=AttachFile&do=view&target=Thorbeck+notes+-+transmons.pdf).*\n",
    "\n",
    "The circuit below indicates the relevant parameters needed for analysis. Each item is labeled twice to make discussing the variable transformation from writing a basic circuit Lagrangian $(V, I_0, C)$ to a more relevant set of variables $(\\dot{\\delta}, E_J, E_C)$ easier. The relationship between each of the sets is given by\n",
    "\n",
    "\\begin{align}\n",
    "\\dot{\\delta} &= V\\\\\n",
    "E_J &= \\frac{I_0\\Phi_0}{2\\pi}\\\\\n",
    "E_C &= \\frac{e^2}{2C}\n",
    "\\end{align}"
   ]
  },
  {
   "cell_type": "markdown",
   "metadata": {},
   "source": [
    "%reload_ext circuitikz"
   ]
  },
  {
   "cell_type": "markdown",
   "metadata": {},
   "source": [
    "%%circuitikz filename=transmon dpi=125\n",
    "\n",
    "\\begin{circuitikz}[scale=1]\n",
    "\n",
    "\\draw ( 0, 0) [short, *-] node[anchor=south] {$V/\\dot{\\delta}$} to (1,0);\n",
    "\\draw (1,0) to [capacitor, l=$C/E_C$] (1,-1)\n",
    "to (0.5,-1) node[ground] {}\n",
    "to (0,-1)\n",
    "to [barrier, l=$I_0/E_J$] (0,0)\n",
    "\n",
    "\\end{circuitikz}"
   ]
  },
  {
   "cell_type": "code",
   "execution_count": null,
   "metadata": {
    "collapsed": true
   },
   "outputs": [],
   "source": []
  }
 ],
 "metadata": {
  "kernelspec": {
   "display_name": "Python 3",
   "language": "python",
   "name": "python3"
  },
  "language_info": {
   "codemirror_mode": {
    "name": "ipython",
    "version": 3
   },
   "file_extension": ".py",
   "mimetype": "text/x-python",
   "name": "python",
   "nbconvert_exporter": "python",
   "pygments_lexer": "ipython3",
   "version": "3.4.3"
  }
 },
 "nbformat": 4,
 "nbformat_minor": 1
}
